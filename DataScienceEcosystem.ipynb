{
 "cells": [
  {
   "cell_type": "markdown",
   "id": "0437c374-0239-4016-bdae-0246e36d8749",
   "metadata": {},
   "source": [
    "# Data Science Tools and Ecosystem"
   ]
  },
  {
   "cell_type": "markdown",
   "id": "d594ccf8-063c-4d0e-b01d-86b2da17e028",
   "metadata": {},
   "source": [
    "In this notebook, Data Science Tools and Ecosystem are summarized"
   ]
  },
  {
   "cell_type": "markdown",
   "id": "eb5ec6c7-29d1-4457-8f17-b6bd6c9df791",
   "metadata": {},
   "source": [
    "Some of the popular languages that Data Scientist use are:\n",
    "1. Python\n",
    "2. R\n",
    "3. SQL\n",
    "4. C++\n",
    "5. Java  etc..."
   ]
  },
  {
   "cell_type": "markdown",
   "id": "0389da5e-d22b-42c3-94c1-a036f141c868",
   "metadata": {},
   "source": [
    "Some of the commonly used libraries used by Data Scientist include:\n",
    "1. Tensorflow\n",
    "2. Numpy\n",
    "3. Scify\n",
    "4. Pandas\n",
    "5. Matplotlib\n",
    "6. Scikit-Learn\n",
    "7. Pytorch  etc....."
   ]
  },
  {
   "cell_type": "markdown",
   "id": "5d654e5f-b5ec-4d88-9833-769545c4f826",
   "metadata": {},
   "source": [
    "|Data Science Tools|\n",
    "|----|\n",
    "|SAS|\n",
    "|Apache Hadoop|\n",
    "|Tensorflow|"
   ]
  },
  {
   "cell_type": "markdown",
   "id": "bab686bb-d62d-4f56-95ea-800f87e46f30",
   "metadata": {},
   "source": [
    "### Below are a few examples of evaluating arithmetic expressions in Python."
   ]
  },
  {
   "cell_type": "code",
   "execution_count": 1,
   "id": "f1c20c28-6f5f-4c18-83ab-4145bda9f588",
   "metadata": {},
   "outputs": [
    {
     "data": {
      "text/plain": [
       "17"
      ]
     },
     "execution_count": 1,
     "metadata": {},
     "output_type": "execute_result"
    }
   ],
   "source": [
    "# This is a common arithmetic example to multiply and then add integers.\n",
    "(3*4)+5"
   ]
  },
  {
   "cell_type": "code",
   "execution_count": 2,
   "id": "58ee6e76-3afb-4552-81fb-1702ddccb0b5",
   "metadata": {},
   "outputs": [
    {
     "data": {
      "text/plain": [
       "5.0"
      ]
     },
     "execution_count": 2,
     "metadata": {},
     "output_type": "execute_result"
    }
   ],
   "source": [
    "# This will convert 300 minutes to hours by dividing by 60\n",
    "300/60"
   ]
  },
  {
   "cell_type": "markdown",
   "id": "924c77d1-d98e-4a03-8748-ebb2b5505149",
   "metadata": {},
   "source": [
    "__Objective__\n",
    "* List popular integers for Data Science.\n",
    "* List popular libraries for Data Science.\n",
    "* List of well known Data Science Tools.\n",
    "* How to provide comments in the cell."
   ]
  },
  {
   "cell_type": "markdown",
   "id": "a887470d-0864-43f9-ac83-a477fa952bc4",
   "metadata": {},
   "source": [
    "## Author\n",
    "Nitesh Sahu"
   ]
  }
 ],
 "metadata": {
  "kernelspec": {
   "display_name": "Python 3 (ipykernel)",
   "language": "python",
   "name": "python3"
  },
  "language_info": {
   "codemirror_mode": {
    "name": "ipython",
    "version": 3
   },
   "file_extension": ".py",
   "mimetype": "text/x-python",
   "name": "python",
   "nbconvert_exporter": "python",
   "pygments_lexer": "ipython3",
   "version": "3.10.12"
  }
 },
 "nbformat": 4,
 "nbformat_minor": 5
}
